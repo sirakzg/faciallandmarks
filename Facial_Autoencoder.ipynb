{
 "cells": [
  {
   "cell_type": "code",
   "execution_count": 1,
   "metadata": {},
   "outputs": [
    {
     "name": "stdout",
     "output_type": "stream",
     "text": [
      "facial-keypoints-detection.zip: Skipping, found more recently modified local copy (use --force to force download)\n"
     ]
    }
   ],
   "source": [
    "# download kaggle competition data\n",
    "# use pip install kaggle if unable to run command\n",
    "!kaggle competitions download -c facial-keypoints-detection"
   ]
  },
  {
   "cell_type": "code",
   "execution_count": 2,
   "metadata": {},
   "outputs": [],
   "source": [
    "# once downlaoded unzip main data zip files and test training sub-zip files\n",
    "import zipfile\n",
    "\n",
    "with zipfile.ZipFile(\"facial-keypoints-detection.zip\", 'r') as zip_ref:\n",
    "    zip_ref.extractall(\"facial_data\")\n",
    "\n",
    "with zipfile.ZipFile(\"facial_data/training.zip\", 'r') as zip_ref:\n",
    "    zip_ref.extractall(\"facial_data/training\")\n",
    "\n",
    "with zipfile.ZipFile(\"facial_data/test.zip\", 'r') as zip_ref:\n",
    "    zip_ref.extractall(\"facial_data/test\")\n"
   ]
  },
  {
   "cell_type": "code",
   "execution_count": null,
   "metadata": {},
   "outputs": [],
   "source": []
  },
  {
   "cell_type": "code",
   "execution_count": 1,
   "metadata": {},
   "outputs": [],
   "source": [
    "# load data\n",
    "import numpy as np\n",
    "import pandas as pd\n",
    "import matplotlib.pyplot as plt\n",
    "\n",
    "import tensorflow as tf\n",
    "from tensorflow.keras import backend\n",
    "from tensorflow.keras.models import Sequential, Model\n",
    "\n",
    "from tensorflow.keras import optimizers\n",
    "from tensorflow.keras.initializers import glorot_uniform, he_normal\n",
    "\n",
    "from tensorflow.keras.layers import LeakyReLU\n",
    "from tensorflow.keras.models import Sequential, Model\n",
    "from tensorflow.keras.layers import Activation, Convolution2D, MaxPooling2D, BatchNormalization, Flatten, Dense, Dropout, Conv2D,MaxPool2D, ZeroPadding2D"
   ]
  },
  {
   "cell_type": "code",
   "execution_count": null,
   "metadata": {},
   "outputs": [],
   "source": []
  },
  {
   "cell_type": "code",
   "execution_count": 2,
   "metadata": {},
   "outputs": [
    {
     "name": "stdout",
     "output_type": "stream",
     "text": [
      "(7049,)\n",
      "(1783,)\n"
     ]
    },
    {
     "data": {
      "text/plain": [
       "(8832,)"
      ]
     },
     "execution_count": 2,
     "metadata": {},
     "output_type": "execute_result"
    }
   ],
   "source": [
    "# load train data\n",
    "train_df = pd.read_csv(\"facial_data/training/training.csv\")\n",
    "train_data = train_df.values[:,-1]\n",
    "print(train_data.shape)\n",
    "\n",
    "# load test data\n",
    "test_df = pd.read_csv(\"facial_data/test/test.csv\")\n",
    "test_data = test_df.values[:,-1]\n",
    "print(test_data.shape)\n",
    "\n",
    "all_images = np.append(train_data, test_data, axis=0)\n",
    "all_images.shape"
   ]
  },
  {
   "cell_type": "code",
   "execution_count": null,
   "metadata": {},
   "outputs": [],
   "source": []
  },
  {
   "cell_type": "code",
   "execution_count": null,
   "metadata": {},
   "outputs": [],
   "source": []
  },
  {
   "cell_type": "code",
   "execution_count": 3,
   "metadata": {},
   "outputs": [
    {
     "data": {
      "text/plain": [
       "(8832, 96, 96, 1)"
      ]
     },
     "execution_count": 3,
     "metadata": {},
     "output_type": "execute_result"
    }
   ],
   "source": [
    "# train auto encoder on all images\n",
    "\n",
    "# Convert image column to our X dataset reshaped to 96x96\n",
    "X_all = []\n",
    "for i in range(0, len(all_images)) :\n",
    "    img = np.array(all_images[i].split(' '), dtype = 'float') / 255.\n",
    "    #X.append(img)\n",
    "    X_all.append(np.expand_dims(img.reshape(96,96), axis=2))\n",
    "X_all = np.array(X_all, dtype = 'float')\n",
    "X_all.shape"
   ]
  },
  {
   "cell_type": "code",
   "execution_count": null,
   "metadata": {},
   "outputs": [],
   "source": []
  },
  {
   "cell_type": "code",
   "execution_count": null,
   "metadata": {},
   "outputs": [],
   "source": []
  },
  {
   "cell_type": "code",
   "execution_count": 4,
   "metadata": {
    "scrolled": false
   },
   "outputs": [
    {
     "name": "stdout",
     "output_type": "stream",
     "text": [
      "WARNING:tensorflow:From C:\\Users\\sirak\\Anaconda3\\envs\\berkeley\\lib\\site-packages\\tensorflow\\python\\ops\\init_ops.py:1251: calling VarianceScaling.__init__ (from tensorflow.python.ops.init_ops) with dtype is deprecated and will be removed in a future version.\n",
      "Instructions for updating:\n",
      "Call initializer instance with the dtype argument instead of passing it to the constructor\n",
      "Model: \"sequential\"\n",
      "_________________________________________________________________\n",
      "Layer (type)                 Output Shape              Param #   \n",
      "=================================================================\n",
      "conv2d (Conv2D)              (None, 96, 96, 32)        320       \n",
      "_________________________________________________________________\n",
      "batch_normalization (BatchNo (None, 96, 96, 32)        128       \n",
      "_________________________________________________________________\n",
      "leaky_re_lu (LeakyReLU)      (None, 96, 96, 32)        0         \n",
      "_________________________________________________________________\n",
      "conv2d_1 (Conv2D)            (None, 96, 96, 32)        9248      \n",
      "_________________________________________________________________\n",
      "batch_normalization_1 (Batch (None, 96, 96, 32)        128       \n",
      "_________________________________________________________________\n",
      "leaky_re_lu_1 (LeakyReLU)    (None, 96, 96, 32)        0         \n",
      "_________________________________________________________________\n",
      "max_pooling2d (MaxPooling2D) (None, 48, 48, 32)        0         \n",
      "_________________________________________________________________\n",
      "conv2d_2 (Conv2D)            (None, 48, 48, 64)        18496     \n",
      "_________________________________________________________________\n",
      "batch_normalization_2 (Batch (None, 48, 48, 64)        256       \n",
      "_________________________________________________________________\n",
      "leaky_re_lu_2 (LeakyReLU)    (None, 48, 48, 64)        0         \n",
      "_________________________________________________________________\n",
      "conv2d_3 (Conv2D)            (None, 48, 48, 64)        36928     \n",
      "_________________________________________________________________\n",
      "batch_normalization_3 (Batch (None, 48, 48, 64)        256       \n",
      "_________________________________________________________________\n",
      "leaky_re_lu_3 (LeakyReLU)    (None, 48, 48, 64)        0         \n",
      "_________________________________________________________________\n",
      "max_pooling2d_1 (MaxPooling2 (None, 24, 24, 64)        0         \n",
      "_________________________________________________________________\n",
      "conv2d_4 (Conv2D)            (None, 24, 24, 96)        55392     \n",
      "_________________________________________________________________\n",
      "batch_normalization_4 (Batch (None, 24, 24, 96)        384       \n",
      "_________________________________________________________________\n",
      "leaky_re_lu_4 (LeakyReLU)    (None, 24, 24, 96)        0         \n",
      "_________________________________________________________________\n",
      "conv2d_5 (Conv2D)            (None, 24, 24, 96)        83040     \n",
      "_________________________________________________________________\n",
      "batch_normalization_5 (Batch (None, 24, 24, 96)        384       \n",
      "_________________________________________________________________\n",
      "leaky_re_lu_5 (LeakyReLU)    (None, 24, 24, 96)        0         \n",
      "_________________________________________________________________\n",
      "max_pooling2d_2 (MaxPooling2 (None, 12, 12, 96)        0         \n",
      "_________________________________________________________________\n",
      "conv2d_6 (Conv2D)            (None, 12, 12, 128)       110720    \n",
      "_________________________________________________________________\n",
      "batch_normalization_6 (Batch (None, 12, 12, 128)       512       \n",
      "_________________________________________________________________\n",
      "leaky_re_lu_6 (LeakyReLU)    (None, 12, 12, 128)       0         \n",
      "_________________________________________________________________\n",
      "conv2d_7 (Conv2D)            (None, 12, 12, 128)       147584    \n",
      "_________________________________________________________________\n",
      "batch_normalization_7 (Batch (None, 12, 12, 128)       512       \n",
      "_________________________________________________________________\n",
      "leaky_re_lu_7 (LeakyReLU)    (None, 12, 12, 128)       0         \n",
      "_________________________________________________________________\n",
      "conv2d_8 (Conv2D)            (None, 12, 12, 128)       147584    \n",
      "_________________________________________________________________\n",
      "batch_normalization_8 (Batch (None, 12, 12, 128)       512       \n",
      "_________________________________________________________________\n",
      "leaky_re_lu_8 (LeakyReLU)    (None, 12, 12, 128)       0         \n",
      "_________________________________________________________________\n",
      "up_sampling2d (UpSampling2D) (None, 24, 24, 128)       0         \n",
      "_________________________________________________________________\n",
      "conv2d_9 (Conv2D)            (None, 24, 24, 96)        110688    \n",
      "_________________________________________________________________\n",
      "batch_normalization_9 (Batch (None, 24, 24, 96)        384       \n",
      "_________________________________________________________________\n",
      "leaky_re_lu_9 (LeakyReLU)    (None, 24, 24, 96)        0         \n",
      "_________________________________________________________________\n",
      "up_sampling2d_1 (UpSampling2 (None, 48, 48, 96)        0         \n",
      "_________________________________________________________________\n",
      "conv2d_10 (Conv2D)           (None, 48, 48, 64)        55360     \n",
      "_________________________________________________________________\n",
      "batch_normalization_10 (Batc (None, 48, 48, 64)        256       \n",
      "_________________________________________________________________\n",
      "leaky_re_lu_10 (LeakyReLU)   (None, 48, 48, 64)        0         \n",
      "_________________________________________________________________\n",
      "up_sampling2d_2 (UpSampling2 (None, 96, 96, 64)        0         \n",
      "_________________________________________________________________\n",
      "conv2d_11 (Conv2D)           (None, 96, 96, 32)        18464     \n",
      "_________________________________________________________________\n",
      "conv2d_12 (Conv2D)           (None, 96, 96, 1)         289       \n",
      "=================================================================\n",
      "Total params: 797,825\n",
      "Trainable params: 795,969\n",
      "Non-trainable params: 1,856\n",
      "_________________________________________________________________\n"
     ]
    }
   ],
   "source": [
    "# Sample starter model\n",
    "from tensorflow.keras.layers import Activation\n",
    "from tensorflow.keras.layers import UpSampling2D\n",
    "model = tf.keras.Sequential()\n",
    "\n",
    "## Encoder\n",
    "model.add(Convolution2D(32, (3,3), padding='same', input_shape=(96,96,1), kernel_initializer=glorot_uniform(seed=0)))\n",
    "model.add(BatchNormalization())\n",
    "model.add(LeakyReLU(alpha = 0.1))\n",
    "\n",
    "model.add(Convolution2D(32, (3,3), padding='same', kernel_initializer=glorot_uniform(seed=0)))\n",
    "model.add(BatchNormalization())\n",
    "model.add(LeakyReLU(alpha = 0.1))\n",
    "model.add(MaxPool2D(pool_size=(2, 2)))\n",
    "\n",
    "model.add(Convolution2D(64, (3,3), padding='same', kernel_initializer=glorot_uniform(seed=0)))\n",
    "model.add(BatchNormalization())\n",
    "model.add(LeakyReLU(alpha = 0.1))\n",
    "\n",
    "model.add(Convolution2D(64, (3,3), padding='same', kernel_initializer=glorot_uniform(seed=0)))\n",
    "model.add(BatchNormalization())\n",
    "model.add(LeakyReLU(alpha = 0.1))\n",
    "model.add(MaxPool2D(pool_size=(2, 2)))\n",
    "\n",
    "model.add(Convolution2D(96, (3,3), padding='same', kernel_initializer=glorot_uniform(seed=0)))\n",
    "model.add(BatchNormalization())\n",
    "model.add(LeakyReLU(alpha = 0.1))\n",
    "\n",
    "model.add(Convolution2D(96, (3,3), padding='same', kernel_initializer=glorot_uniform(seed=0)))\n",
    "model.add(BatchNormalization())\n",
    "model.add(LeakyReLU(alpha = 0.1))\n",
    "model.add(MaxPool2D(pool_size=(2, 2)))\n",
    "\n",
    "model.add(Convolution2D(128, (3,3),padding='same', kernel_initializer=glorot_uniform(seed=0)))\n",
    "model.add(BatchNormalization())\n",
    "model.add(LeakyReLU(alpha = 0.1))\n",
    "\n",
    "model.add(Convolution2D(128, (3,3),padding='same', kernel_initializer=glorot_uniform(seed=0)))\n",
    "model.add(BatchNormalization())\n",
    "model.add(LeakyReLU(alpha = 0.1))\n",
    "\n",
    "## Decoder\n",
    "# remove this section?\n",
    "model.add(Convolution2D(128, (3,3), padding='same', kernel_initializer=glorot_uniform(seed=0)))\n",
    "model.add(BatchNormalization())\n",
    "model.add(LeakyReLU(alpha = 0.1))\n",
    "\n",
    "model.add(UpSampling2D(size=(2, 2)))\n",
    "model.add(Convolution2D(96, (3,3), padding='same', kernel_initializer=glorot_uniform(seed=0)))\n",
    "model.add(BatchNormalization())\n",
    "model.add(LeakyReLU(alpha = 0.1))\n",
    "\n",
    "model.add(UpSampling2D(size=(2, 2)))\n",
    "model.add(Convolution2D(64, (3,3),padding='same', kernel_initializer=glorot_uniform(seed=0)))\n",
    "model.add(BatchNormalization())\n",
    "model.add(LeakyReLU(alpha = 0.1))\n",
    "\n",
    "model.add(UpSampling2D(size=(2, 2)))\n",
    "model.add(Convolution2D(32, (3,3),padding='same', activation='relu',kernel_initializer=glorot_uniform(seed=0)))\n",
    "\n",
    "model.add(Convolution2D(1, (3,3), padding='same', activation='sigmoid', kernel_initializer=glorot_uniform(seed=0)))\n",
    "\n",
    "model.summary()"
   ]
  },
  {
   "cell_type": "code",
   "execution_count": null,
   "metadata": {},
   "outputs": [],
   "source": []
  },
  {
   "cell_type": "code",
   "execution_count": null,
   "metadata": {},
   "outputs": [],
   "source": []
  },
  {
   "cell_type": "code",
   "execution_count": 9,
   "metadata": {
    "scrolled": false
   },
   "outputs": [],
   "source": [
    "optimizer = optimizers.Adam(learning_rate=0.001)\n",
    "\n",
    "model.compile(optimizer=optimizer, loss='mse', metrics=['mse'])\n",
    "\n"
   ]
  },
  {
   "cell_type": "code",
   "execution_count": 13,
   "metadata": {},
   "outputs": [
    {
     "name": "stdout",
     "output_type": "stream",
     "text": [
      "Epoch 1/32\n",
      "8832/8832 [==============================] - 18s 2ms/sample - loss: 0.0017 - mean_squared_error: 0.0017 15s - loss: 0.0018 - mean_squared_error: 0 - ETA: 15s - loss: 0.0018 - mean_squared_erro - ETA: 14s - loss: 0.0018 - mean_squared_ - ETA: 1s - loss: 0.0017 - mean_squared_error: 0. - ETA: 1s - loss: 0.0017 - mean_squared_error: 0.00 - ETA: 1s - loss: 0.0017 - mean_squared_error: 0.00 - ETA: 1s - loss: 0.0017 - mean_squar - ETA: 0s - loss: 0.0017 - mean\n",
      "Epoch 2/32\n",
      "8832/8832 [==============================] - 18s 2ms/sample - loss: 0.0016 - mean_squared_error: 0.0016 17s - loss: 0.0017 - mean_square - ETA: 16s - loss: 0.0016 - mean_squared_err - ETA: 15s - loss: 0. - ETA: 13s - loss: 0.0016 - mean_squa - ETA: 12s - loss: 0.0016 - mean - ETA: 11s - loss: 0.0016 - mean_squared_error: - ETA: 10s - loss: 0.0016 - mean_squared - ETA: 6s - l - ETA: 1s - loss: 0.0016 - mean_s - ETA: 0s - loss: 0.0016 - mean_squared_error: 0.00 - ETA: 0s - loss: 0.0016 \n",
      "Epoch 3/32\n",
      "8832/8832 [==============================] - ETA: 0s - loss: 0.0017 - mean_squared_error: 0.0017 ETA: 3s - loss: - ETA: 2s - loss: 0.0016  - ETA: 1s - - 18s 2ms/sample - loss: 0.0017 - mean_squared_error: 0.0017\n",
      "Epoch 4/32\n",
      "8832/8832 [==============================] - 18s 2ms/sample - loss: 0.0017 - mean_squared_error: 0.0017 15s - loss: 0.0016 - mean_sq - ETA: 14s - loss: 0.0017 - mean_ - ETA: 12s - loss: 0.001 - ETA: 10s - loss: 0.0017 - mean - ETA: 7s - loss: 0.0016 - mean_squared_error: 0. - ETA:  - ETA: 6s - loss: 0.0017 - me - ETA: 3s - - ETA: 2s - - ETA: 1s - loss: 0\n",
      "Epoch 5/32\n",
      "8832/8832 [==============================] - 18s 2ms/sample - loss: 0.0015 - mean_squared_error: 0.0015 14s - loss: 0.0015 - mean_squared_e - ETA: 13s - loss: 0.0015 - mean_square - ETA: 12s - loss: 0.0015 - mean_ - ETA: 11s - loss: 0.0015 - mean_squared_error: 0.001 - ETA: 11s - loss: 0. - ETA: 9s - loss: 0.0015 -  - ETA: 8s - loss: 0.0015 - mean_squared_error: 0. - ETA: 8s - loss: 0.0015 - mean_squared_error: 0.00 - ETA: 8s - los - ETA: 0s - loss: 0.0015 - mean_squared_error\n",
      "Epoch 6/32\n",
      "8832/8832 [==============================] - 18s 2ms/sample - loss: 0.0015 - mean_squared_error: 0.0015 16s - loss: 0.0014 - mean_square - ETA: 15s - loss: - ETA: 13s - loss: 0.0014  - ETA: 11s - loss: 0.0015 - mean_squared_error:  - ETA: 11s - loss: 0.0015 - mean_squared_error: 0.001 - ETA: 11s -  - ETA: 0s - loss: 0.0015 - mean_s - ETA: 0s - loss: 0.0015 - mean_squared_error: 0.\n",
      "Epoch 7/32\n",
      "8832/8832 [==============================] - 18s 2ms/sample - loss: 0.0015 - mean_squared_error: 0.0015 18s - lo - ETA: 15s - loss: 0.0017 - mean_squared_error: 0.00 - ETA: - ETA: 9s - loss: 0.0015 - mean_squared_error - ETA: 8s - loss: 0.0015 - mean_squared_err - ETA: 8s - los - ETA: 0s - loss: 0.0015 - mean_squared\n",
      "Epoch 8/32\n",
      "8832/8832 [==============================] - ETA: 0s - loss: 0.0015 - mean_squared_error: 0.0015 - ETA: 17s - loss: 0.0017 - mean_squared_e - ETA: 16s - loss: 0.0017 - mean_squared_error: 0.00 - ETA: 16s - loss: 0.0016 - mean_sq - ETA: 15s - loss: 0.0015 - mean_squared_error: 0.00 - ETA: 15s - loss: 0.0016 - mean_squared_error - ETA: 14s - loss: 0.0015 - mean_squared_error: 0.001 - ETA: 14s - loss: 0.0015 - mean_s - ETA: 13s - loss: 0.0015 - mean_squared_er - ETA: 12s - loss: 0.0015 - mean_sq - ETA: 5s - loss: 0.0015 -  - ETA: 4s - loss: - ETA: 1s - loss: 0.0015 - mean_squared_error: 0.00 - ETA: 1s - loss: 0.0015 - mean_squared_error: 0. - ETA: 1s - l - ETA: 0s - loss: 0.0015 - mean_squared_error:  - 18s 2ms/sample - loss: 0.0015 - mean_squared_error: 0.0015\n",
      "Epoch 9/32\n",
      "8832/8832 [==============================] - 18s 2ms/sample - loss: 0.0015 - mean_squared_error: 0.0015 15s - loss: 0.0016 - mean_squar - ETA: 14s - loss: 0.0 - ETA: 12s - loss: 0.0016 - mean_squared_err - ETA: 12s - loss: 0.0 - ETA: 10s - loss: 0.0016  - ETA: 7s - loss: 0.0015 - mean_squared_error - ETA: 7s - loss: 0.0015 - mean_squared_error -\n",
      "Epoch 10/32\n",
      "8832/8832 [==============================] - 18s 2ms/sample - loss: 0.0013 - mean_squared_error: 0.0013 13s - loss - ETA: 10s - loss: 0.0014 - mean_squared_erro - ETA: 10s - loss: 0.0014 - mean_squared_erro - ETA: 9s - loss: 0.0014  - ETA: 5s - loss: 0.0 - ETA: 4s - loss: 0.0014 - mean_squared_error - ETA: 4s - loss: 0.0014 - mean_squared_error: 0.00 - ETA: 4s - l - ETA: 2s - loss: 0.0013 - mean_squared - ETA: 0s - loss: 0.0013 - mean_squ\n",
      "Epoch 11/32\n",
      "8832/8832 [==============================] - ETA: 0s - loss: 0.0013 - mean_squared_error: 0.0013 - ETA: 16s - loss: 0.00 - ETA: 14s - loss: 0.0015 - mean_squared_e - ETA: 14s - - ETA: 0s - loss: 0.0013 - mean_squared_error - 18s 2ms/sample - loss: 0.0013 - mean_squared_error: 0.0013\n",
      "Epoch 12/32\n",
      "8832/8832 [==============================] - 18s 2ms/sample - loss: 0.0013 - mean_squared_error: 0.0013 17s - loss: 0.0011 - mean_squared_error: 0. - ETA: 17s - loss: 0.0010 - mean_squared_erro - ETA: 16s - loss: 0.0012 - mean_squared_error: 0 - ETA: 16s - loss: 0.0012 - mean_squared_erro - ETA: 0s - loss: 0.0013 - mean_squ\n",
      "Epoch 13/32\n",
      "8832/8832 [==============================] - 18s 2ms/sample - loss: 0.0012 - mean_squared_error: 0.0012 16s - loss: 0.0012 - mean_squared_error:  - ETA: 16s - loss: 0.0012 - mean_squared_error - ETA: 16s - loss: 0.0012 - ETA: 14s - loss: 0.0012 - mean_squared_err - ETA: 13s - loss: 0.0012 - - ETA: 12s - loss: 0.0012 - mean_squa\n",
      "Epoch 14/32\n",
      "8832/8832 [==============================] - 18s 2ms/sample - loss: 0.0012 - mean_squared_error: 0.0012 15s - loss: 0.0012 - mean_squared_error: 0. - ETA: 14s - loss: 0.0012 - mean_squared_err - ETA: 14s - loss: 0 - ETA: 11s - loss: 0.0013 - mean_square - ETA: 10s - loss: 0.0012 - mean_squared_error - ETA: 10s - loss - ETA: 2s - loss: 0.0012 - mean_squared_error: 0.00 - ETA: 1s - loss: 0.0012 - mean_squared_error\n",
      "Epoch 15/32\n",
      "8832/8832 [==============================] - 18s 2ms/sample - loss: 0.0011 - mean_squared_error: 0.0011\n",
      "Epoch 16/32\n",
      "8832/8832 [==============================] - 20s 2ms/sample - loss: 0.0012 - mean_squared_error: 0.0012s - loss: 0.001\n",
      "Epoch 17/32\n",
      "8832/8832 [==============================] - 18s 2ms/sample - loss: 0.0010 - mean_squared_error: 0.0010s - loss: 0.0010 - mean_squared_error - ETA: 6s - loss: 0.0010 - mean_squared_e - ETA: 5s - loss: 0.001 - ETA: 3s - loss: 0.0010 - mean_squared_error: 0. - ETA: 2s - loss: 0.0010 - mean_squ - ETA: 2s - loss: 0.0010 - mean_squared_error - ETA: 2s - loss: 0.0010 - mean_squared_error: 0.00 - ETA: 2s - loss: 0.0010 - mean_squ - ETA: 1s - loss: 0.0010 - mean_s - ETA: 0s - loss: 0.0010 - me\n",
      "Epoch 18/32\n",
      "8832/8832 [==============================] - 17s 2ms/sample - loss: 0.0011 - mean_squared_error: 0.0011  - ETA: 16s - loss: 8.3139e-04 - mean_squared_error: 8.3139 - ETA: 16s - loss: 8.8660e-04 - mean_squared_error: 8.86 - ETA: 16s - loss: 8.9110e-04 - mean_squared_error: 8.91 - ETA: 15s - loss: 9.0075e-04 - mean_squared_error: 9. - ETA: 15s - loss: 9.2473e-04 - mean_squared_ - ETA: 14s - loss: 9.8768e-04 - mean_squared_error: - ETA: 13s - loss: 0.0010 - - ETA: 11s - loss: 0.0011 - mean_squared - E - ETA: 7s - loss: 0.0011 - mean_squared - ETA: 6s - loss: 0.0011 - mean_squ - ETA: 6s - ETA: 4s - loss: 0.0011 - mean_squared_error - ETA: 4s - loss: 0.0011 - mean_squared_e - ETA: 4s - loss: 0.0011 - mean - ETA: 3s - loss: 0.0011 - mean_squared_error - ETA: 3s - loss: 0.0011 - mean_squ - ETA - ETA: 1s - loss: 0\n",
      "Epoch 19/32\n"
     ]
    },
    {
     "name": "stdout",
     "output_type": "stream",
     "text": [
      "8832/8832 [==============================] - 18s 2ms/sample - loss: 0.0010 - mean_squared_error: 0.0010  - ETA: 17s - loss: 9.1260e-04 - mean_squared_error: 9.1260 - ETA: 17s - loss: 9.8141e-04 - mean_squared_error: 9.814 - ETA: 16s - loss: 9.7393e-04 - mean_squared_error: 9.73 - ETA: 16s - loss: 9.9734e-04 - mean_squared_error: 9.9734e-0 - ETA: 16s - loss: 9.8410e-04 - mean_squared_error: 9 - ETA: 15s - loss: 9.7488e-04 - mean_squared_error: 9.74 - ETA: 15s - loss: 9.6894e-04 - mean_s - ETA: 13s - loss: 0.0010 - mean_squared_error: 0.00 - ETA: 13s - loss: 0.0010 - mean_squared_error: 0.001 - ETA: 13s - loss: 0.0010 - mean_squared_error:  - ETA: 13s - loss: 0.0011 - mean_squared_erro - ETA: 12s - loss: 0.0011 - mean_squared_error:  - ETA: 12s - loss: 0.0011 - mean_squared_error: 0. - ETA: 12s - loss: 0.0011 - mean_squared_error: - ETA: 11s - loss: 0.0010 - mean_squared_er - ETA: 10s - loss: 0.0010 - mean_squared_ - ETA: 10s - loss:  - ETA: 8s - loss: 0.0010 - mean_squared_error: 0. - ETA: 8s - loss: 0.0010 - mean_squared_error:  - ETA: 8s - loss: 0.0010 - mean_squared_error: 0.00 - ETA: 8s - loss: 0.0010 - mean_squared_error: 0.00 - ETA: 8s - loss: 0.0010 - mean_squ - ETA: 7s - loss: 0.0010  - ETA: 7s - loss: 0.0010 - mean_squ - ETA: 6s - loss: 0.0010 - me - ETA: 5s - loss: 0.0010 - mean_squared_e - ETA: 5s - loss: 0.0010 - mean_squared_e - ETA: 4s - loss: 0.0010 - mean_squared_error: 0. - ETA: 4s - loss: 0.0010 - mean_squ - ETA: 4s - loss: 0.0011  - ETA: 3s - loss: 0.0010 - mean - ETA: 2s - loss: 0.0010 - mean_squared_error - ETA: 2s - loss: 0.0010 - mean_squared_error: 0. - ETA: 2s - loss: 0.0010 - mean_squared_e - - ETA: 0s - loss: 0.0010 - mean_squared_error\n",
      "Epoch 20/32\n",
      "8832/8832 [==============================] - 17s 2ms/sample - loss: 0.0010 - mean_squared_error: 0.0010  - ETA: 17s - loss: 8.6714e-04 - mean_square - ETA: 16s - loss: 9.5359e-04 - mean_squared_error: 9.53 - ETA: 15s - loss: 0.0010 - mean_sq - ETA: 14s - loss: 0.0010 - mean_squared_err - ETA: 13s - loss: 0.0010 - mean_squared_err - ETA: 13s - loss: 0.0010 - mean_squ - ETA: 12s - loss: 0.0010 - mean_squared_erro - ETA: 11s - loss: 0.0010 - mean_squared_error: 0 - ETA: 11s - loss: 0.0010 - mean_squared_erro - ETA: 10s - loss: 0.0010 - mean_squared_error: 0. - ETA: 10s - loss: 0.0010 - mean_squared_erro - ETA: 9s - loss: 0.0010 - mean_squar - ETA: 9s - loss: 0.0010 - mean_squared_error:  - ETA: 9s - loss: 0.0010  - ETA: 8s - loss: 0.0010 - mean_squared_error: 0.00 - ETA: 8s - loss: 0.0010 - mean - ETA: 7s - loss: 0.0010 - mean_squared_e - ETA: 7s - loss: 0.0010  - ETA: 6s - loss: 0.0010 - mean_squared_err - ETA: 5s - loss: 0.0010 - mean_squared_e - ETA: 5s - loss: 0.0010 - mean_squ - ETA: 3s - loss: 0.0010 - mean_squar - ETA: 2s - loss: 0.0010 - mean_squared_err - ETA: 2s - loss: 0.0010 - mean_squared_err - ETA: 2s - loss: 0.0010 - mean_squared_error - ETA: 1s - loss: 0.0010 - mean_squared_error - ETA: 1s - loss: 0 - ETA: 0s - loss: 0.0010 - mean_squ\n",
      "Epoch 21/32\n",
      "8832/8832 [==============================] - 17s 2ms/sample - loss: 9.4362e-04 - mean_squared_error: 9.4362e-04 17s - loss: 9.0664e-04 - mean_squared_error: 9.0664e - ETA: 16s - loss: 9.4573e-04 - mean_squared_e - ETA: 15s - loss: 8.5981e-04 - mean_s - ETA: 14s - loss: 9.2022e-04 - mean_squared_error: 9.2022e-0 - ETA: 14s - loss: 9.2020e-04 - mean_squared_error: 9.2020e-0 - ETA: 14s - loss: 9.3070e-04 - mean_squared_er - ETA: 13s - loss: 9.4708e-04 - mean_squared_error: 9.4708e - ETA: 13s - loss: 9.5279e-04 - mean_squared_err - ETA: 12s - loss: 9.4854e-04 - mean_squared_error: 9.4854 - ETA: 12s - loss: 9.6592e-04 - mean_squared_error: 9.659 - ETA: 11s - loss: 9.5713e-04 - mean_squared_error: 9.5713e-0 - ETA: 11s - loss: 9.5379e-04 - mean_squa - ETA: 10s - loss: 9.4969e-04 - mean_squared_error: 9.49 - ETA: 9s - loss: 9.4521e-04 - mean_squared_erro - ETA: 9s - loss: 9.5382e - ETA: 8s - ETA: 2s - loss: 9.4103e-04 - mean_squared_error: 9.4103 - ETA: 2s - loss: 9.3950e-04 - mean_squared_error: 9. - ETA: 2s - loss: 9.4327e-04 - mean_squared_error: 9.43 - ETA: 2s - loss: 9.4534e-04 - mean_squared_error - ETA: 1s - loss: 9.4571e-04 - mean_squared_error: 9.4572 - ETA: 1s - loss: 9.4615e-04 - mean_squared_error: 9. - ETA: 1s - loss: 9.4578e-04 - mean_squared_error: 9.4578e- - ETA: 1s - loss: 9.4508e-04 - mean_squared_e - ETA: 0s - loss: 9.4409e-04 - mean_squared_e - ETA: 0s - loss: 9.4318e-04 - mean_squared_error: 9.4318 - ETA: 0s - loss: 9.4373e-04 - mean_squared_error: \n",
      "Epoch 22/32\n",
      "8832/8832 [==============================] - 17s 2ms/sample - loss: 0.0010 - mean_squared_error: 0.0010  - - ETA: 13s - loss: 9.0966e-04 - mean_squared_error: 9 - ETA: 12s - loss: 8.9738e-04 - mean_squared_error: 8.973 - ETA: 12s - loss: 9.3024e-04 - mean_squared_err - ETA: 11s - loss: 9.6991e-04 - mean_squared_error: 9.6991 - ETA: 11s - loss: 9.8673e-04 - mean_squared_error: 9 - ETA: 10s - loss - ETA: 3s - loss: 0.0010 - mean_squared_err - ETA: 3s - loss: 0.0010 - mean_squared_error:  - ETA: 3s - loss: 0.0010 - mean_squared - ETA: 3s - loss: 0 - ETA: 1s - loss: 0.0010 - mean_squared_error:  - ETA: 1s - loss: 0 - ETA: 0s - loss: 0.0010 - mean\n",
      "Epoch 23/32\n",
      "8832/8832 [==============================] - 17s 2ms/sample - loss: 9.5696e-04 - mean_squared_error: 9.5696e-04 17s - loss: 7.7913e-04 - mean_squared_error: 7.7913e - ETA: 16s - loss: 8.2586e-04 - mean_squared_error: 8.2586e-0 - ETA: 16s - loss: 8.4079e-04 - mean_squared_error: 8.407 - ETA: 16s - loss: 8.8093e-04 - mean_squared_error: 8 - ETA: 15s - loss: 9.7896e-04 - mean_squared_error: 9.789 - ETA: 15s - loss: 9.8244e-04 - mean_squared_error: 9.8244e-0 - ETA: 15s - loss: 9.7934e-04 - mean_squared_error: 9.79 - ETA: 15s - loss: 9.7740e-04 - mean_squared_erro - ETA: 14s - loss: 0.0010  - ETA: 12s - loss: 0.0010 - mean_squared_error - ETA: 12s - loss: 0.0010 - mean_squ - ETA: 10s - loss: 9.8746e-04 - mean_squared_error:  - ETA: 8s - loss: 9.7960e-04 - mean_squared_error: 9.79 - ETA: 7s - loss: 9.7967e-0 - ETA: 6s - loss: 9.9848e-04 - mean_squar - ETA: 6s - loss: 9.8955e-04 - mean_squared_error: 9.8955 - ETA: 6s - ETA: 4s - loss: 9.6991e-04 - mean_squared_error: 9. - ETA: 4s - loss: 9.6916e-04 - mean_squared_err - ETA: 3s - loss: 9.6863e-04 - mean_squared_error: 9.6862e- - ETA: 3s - loss: 9.6724e-04 - mean_squared_error: 9.67 - ETA: 3s - loss: 9.6644e-04 - mean_squared_error: 9. - ETA: 3s - loss: 9.6478e-04 - mean - ETA: 2s - loss: 9.6417e-04 - mean_squared_error: 9. - ETA: 2s - loss: 9.6260e-04 - mean_squ - ETA: 1s - los - ETA: 0s - loss: 9.5723e-04 - mean_squared_error: 9.5723e-\n",
      "Epoch 24/32\n",
      "8832/8832 [==============================] - 18s 2ms/sample - loss: 9.1194e-04 - mean_squared_error: 9.1194e-04 16s - loss: 9.5861e-04 - mean_squared_error: 9.5861e-0 - ETA: 16s - loss: 9.3624e-04 - mean_squared_error:  - ETA: 15s - loss: 8.7507e-04 - ETA: 13s - loss: 9.0616e-04 - mean_squared_error: 9.0616e-0 - ETA: 13s - loss: 9.0150e-04 - mean_squared_error: 9 - ETA: 13s - loss: 9.0398e-04 - mean_squared_error: 9. - ETA: 12s - loss: 9.0777e-04 - mean_squared_error: 9. - ETA: 12s - loss: 9.0580e-04 - mean_squared_error: 9.0580e- - ETA: 12s - loss: 9.0658e-04 - mean_squared_error: 9.0658e- - ETA: 12s - loss: 9.0173e-04 - mean_squared_error: 9.0173e- - ETA: 11s - loss: 9.0708e-04 - mean_squared_er - ETA: 10s - loss: 9.0773e-04 - mean_squared_error: 9.0773 - ETA: 10s - loss: 9.0143e-04 - mean_squared_error: 9.014 - ETA: 10s - loss: 9.0058e-04 - mean_squared_error: 9.0058 - ETA: 10s - loss: 9.0146e-04 - mean_squared_error: 9.014 - ETA: 9s - loss: 9.0091e-04 - mean_squared_error: 9.00 - ETA: 9s - loss: 8.9976e-04 - mean_squared_err - ETA: 9s - loss: 9.0307e-04 - mean_squared_e - ETA: 8s - loss: 9.2415e-04 - mean_squared_error:  - ETA: 8s - loss: 9.2806e-04 - mean_squared_error:  - ETA: 8s - loss: 9.3264e-04 - mean_squared_error: 9.\n",
      "Epoch 25/32\n"
     ]
    },
    {
     "name": "stdout",
     "output_type": "stream",
     "text": [
      "8832/8832 [==============================] - 17s 2ms/sample - loss: 9.6807e-04 - mean_squared_error: 9.6807e-043s - loss: 9.9954e-04 - mean_squared_error: 9.9954e-0 - ETA: 13s - loss: 9.9948e-04 - mean_squared_error: 9.9948e-0 - ETA: 13s - loss: 9.9887e-04 - mean_squared_error: 9.988 - - ETA: 9s - loss: 9.9554e-04 - mean_s - ETA: 8s - loss: - ETA: 7s - loss: 9.8 - ETA: 6s - loss: 9.8411e-0 - ETA: 5s - loss: 9.7910e-04 - me - E - ETA: 2s - loss: 9.6510e-04 - mean_squared_error:  - ETA: 2s - loss: 9.6584e-04 - mean_squared - ETA: 1s - loss: 9.7112e-04 - mean_squared_error: 9.71 - ETA: 1s - loss: 9.7178e-04 - mean_squared_error: 9.7178 - ETA: 1s - loss: 9\n",
      "Epoch 26/32\n",
      "8832/8832 [==============================] - 17s 2ms/sample - loss: 8.9426e-04 - mean_squared_error: 8.9426e-04 16s - loss: 8.2639e-04 - mean_squared - ETA: 15s - loss: 9.9732e-04 - mean_squared_error: 9 - ETA: 11s - loss: 9.6427e-04 - mean_squared_error:  - ETA: 10s - loss: 9.6460e-04 - mea - - ETA: 1s - loss: 8.9186e-04 - mean_squared_error: 8.9186e- - ETA: 1s - l - ETA: 0s - loss: 8.9673e-04 - mean_squared_error: \n",
      "Epoch 27/32\n",
      "8832/8832 [==============================] - 17s 2ms/sample - loss: 9.6579e-04 - mean_squared_error: 9.6579e-04s - loss: 9.4359e-04 - mean_squared_error: 9.4359e- - E - ETA: 3s - loss: - ETA: 0s - loss: 9.7012e-04 - mean_squared_err\n",
      "Epoch 28/32\n",
      "8832/8832 [==============================] - 17s 2ms/sample - loss: 9.3401e-04 - mean_squared_error: 9.3401e-04 15s - loss: 9.2806e-04 - mean_squared_error: 9.280 - ETA: 15s - loss: 9.6426e-04 - mean_squared_err - ETA: 14s - loss: 9.4078e-04 - mean_squared_error: 9.4078e - ETA: 14s - loss: 9 - ETA: 11s - loss: 9.9360 - ETA: 7s - loss: 9.905 - ETA:  - ETA: 3s - loss: 9.4673e-04 - me - ETA: 2s - loss: 9.4 - ETA: 1s - loss: 9.3034e-0\n",
      "Epoch 29/32\n",
      "8832/8832 [==============================] - 17s 2ms/sample - loss: 8.6610e-04 - mean_squared_error: 8.6610e-04 14s - loss: 8.2672e-04 - me - ETA: 7s - l - ETA: 6s - loss: 8.8336e-04 - mean_squared_error: 8.8336e- - ETA: 5s - loss: 8.8349e-04 - mean_squared_error: 8.8349e- - ETA:  - ETA: 0s - loss: 8.6607e-04 - mean_squared_error: \n",
      "Epoch 30/32\n",
      "8832/8832 [==============================] - ETA: 0s - loss: 8.9460e-04 - mean_squared_error: 8.9460e-04 - ETA: 7s - loss: 8.7295e-04 - mean_squared - ETA: 5s - los - ETA: 3s - loss: 8.829 - ETA: 2s - loss: 8.8956e-04 - me - ETA: 1s - los - ETA: 0s - loss: 8.9203e-04 - mean_squared_error: 8.9203e- - ETA: 0s - loss: 8.9608e-04 - mean_squared_error: 8.96 - 17s 2ms/sample - loss: 8.9482e-04 - mean_squared_error: 8.9482e-04\n",
      "Epoch 31/32\n",
      "8832/8832 [==============================] - 17s 2ms/sample - loss: 9.0334e-04 - mean_squared_error: 9.0334e-04 15s - loss: 8.3576e-04 - mean_squared_error: 8. - ETA: 15s - loss: 8.3331e-04 - mean_squared_error: 8.33 - ETA: 15s - loss: 8.4852e-04 - mean_squared_e - ETA: 14s - loss: 8.2988e-04 - mean_squared_error: 8.298 - ETA: 14s - loss: 8.2529e-04 - mean_sq - ETA: 12s - loss: 8.2773e-04 - ETA: 10s - loss: 8.5931e-04 - me - ETA: 9s - loss: 8.6718e-04 - mean_squared_error - ETA: 8s - loss: 8.7028e-04 - mean_squared_err - ETA: 8s - loss: 8.7361e-04 - mean_s - ETA: 7s - loss: 8.7315e-04 - mean_squared_error: 8.7315 - ETA - ETA: 3s - loss: 8.8703e-04 - mean_squared_err - ETA: 3s - loss: 8.8683e-04 - mean_squared_error - ETA: 2s - loss: 8.9156e-04 - mean_squar - ETA: 0s - loss: 9.0227e-04 - mean_squared_error: \n",
      "Epoch 32/32\n",
      "8832/8832 [==============================] - 18s 2ms/sample - loss: 8.8413e-04 - mean_squared_error: 8.8414e-04s - loss: 9.0694e-04 - mean_squared_error:  - ETA: 3s - loss: - ETA: 2s - loss: 8.9698e-04 - mean_squared_error:  - ETA: 2s - loss: 8.9509e-04 - mean_squared_e - ETA: 1s - loss: 8.9048e-04 - mean_squared_error - ETA: 1s - loss: 8.8\n"
     ]
    },
    {
     "data": {
      "text/plain": [
       "<tensorflow.python.keras.callbacks.History at 0x1c851700948>"
      ]
     },
     "execution_count": 13,
     "metadata": {},
     "output_type": "execute_result"
    }
   ],
   "source": [
    "model.fit(X_all,X_all,epochs = 32, batch_size = 32) #, validation_split = 0.1"
   ]
  },
  {
   "cell_type": "code",
   "execution_count": null,
   "metadata": {},
   "outputs": [],
   "source": []
  },
  {
   "cell_type": "code",
   "execution_count": null,
   "metadata": {},
   "outputs": [],
   "source": []
  },
  {
   "cell_type": "code",
   "execution_count": 16,
   "metadata": {
    "scrolled": false
   },
   "outputs": [
    {
     "data": {
      "image/png": "[encoded data removed]",
      "text/plain": [
       "<Figure size 432x288 with 1 Axes>"
      ]
     },
     "metadata": {
      "needs_background": "light"
     },
     "output_type": "display_data"
    },
    {
     "data": {
      "image/png": "[encoded data removed]",
      "text/plain": [
       "<Figure size 432x288 with 1 Axes>"
      ]
     },
     "metadata": {
      "needs_background": "light"
     },
     "output_type": "display_data"
    },
    {
     "data": {
      "image/png": "[encoded data removed]",
      "text/plain": [
       "<Figure size 432x288 with 1 Axes>"
      ]
     },
     "metadata": {
      "needs_background": "light"
     },
     "output_type": "display_data"
    },
    {
     "data": {
      "image/png": "[encoded data removed]",
      "text/plain": [
       "<Figure size 432x288 with 1 Axes>"
      ]
     },
     "metadata": {
      "needs_background": "light"
     },
     "output_type": "display_data"
    }
   ],
   "source": [
    "for img_id in range(0,2) :\n",
    "    img = model.predict(np.expand_dims(X_all[img_id], axis=0))[0]\n",
    "    img.shape\n",
    "    # predicted landmarks\n",
    "    plt.imshow(X_all[img_id,:,:,0],cmap='gray')\n",
    "    plt.show()\n",
    "    plt.imshow(img[:,:,0],cmap='gray')\n",
    "    plt.show()\n"
   ]
  },
  {
   "cell_type": "code",
   "execution_count": null,
   "metadata": {},
   "outputs": [],
   "source": []
  },
  {
   "cell_type": "code",
   "execution_count": 15,
   "metadata": {},
   "outputs": [
    {
     "name": "stdout",
     "output_type": "stream",
     "text": [
      "WARNING:tensorflow:From C:\\Users\\sirak\\Anaconda3\\envs\\berkeley\\lib\\site-packages\\tensorflow\\python\\ops\\init_ops.py:97: calling GlorotUniform.__init__ (from tensorflow.python.ops.init_ops) with dtype is deprecated and will be removed in a future version.\n",
      "Instructions for updating:\n",
      "Call initializer instance with the dtype argument instead of passing it to the constructor\n",
      "WARNING:tensorflow:From C:\\Users\\sirak\\Anaconda3\\envs\\berkeley\\lib\\site-packages\\tensorflow\\python\\ops\\init_ops.py:97: calling Zeros.__init__ (from tensorflow.python.ops.init_ops) with dtype is deprecated and will be removed in a future version.\n",
      "Instructions for updating:\n",
      "Call initializer instance with the dtype argument instead of passing it to the constructor\n",
      "WARNING:tensorflow:From C:\\Users\\sirak\\Anaconda3\\envs\\berkeley\\lib\\site-packages\\tensorflow\\python\\ops\\init_ops.py:97: calling Ones.__init__ (from tensorflow.python.ops.init_ops) with dtype is deprecated and will be removed in a future version.\n",
      "Instructions for updating:\n",
      "Call initializer instance with the dtype argument instead of passing it to the constructor\n"
     ]
    }
   ],
   "source": [
    "from tensorflow.keras.models import load_model\n",
    "\n",
    "model.save('auto_encoder.h5')  # creates a HDF5 file 'my_model.h5'\n",
    "#del model  # deletes the existing model\n",
    "\n",
    "# returns a compiled model\n",
    "# identical to the previous one\n",
    "autoencoder = load_model('auto_encoder.h5')"
   ]
  },
  {
   "cell_type": "code",
   "execution_count": null,
   "metadata": {},
   "outputs": [],
   "source": []
  },
  {
   "cell_type": "code",
   "execution_count": null,
   "metadata": {},
   "outputs": [],
   "source": []
  }
 ],
 "metadata": {
  "kernelspec": {
   "display_name": "Python 3",
   "language": "python",
   "name": "python3"
  },
  "language_info": {
   "codemirror_mode": {
    "name": "ipython",
    "version": 3
   },
   "file_extension": ".py",
   "mimetype": "text/x-python",
   "name": "python",
   "nbconvert_exporter": "python",
   "pygments_lexer": "ipython3",
   "version": "3.7.4"
  }
 },
 "nbformat": 4,
 "nbformat_minor": 2
}
